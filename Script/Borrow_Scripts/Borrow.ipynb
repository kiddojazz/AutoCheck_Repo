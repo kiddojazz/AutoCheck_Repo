{
 "cells": [
  {
   "cell_type": "code",
   "execution_count": 1,
   "id": "8500559c",
   "metadata": {},
   "outputs": [],
   "source": [
    "import os\n",
    "import pandas as pd\n",
    "import tabula\n",
    "from sqlalchemy import create_engine\n",
    "from dotenv import dotenv_values\n",
    "from datetime import datetime"
   ]
  },
  {
   "cell_type": "code",
   "execution_count": 2,
   "id": "0fcfc0d0",
   "metadata": {},
   "outputs": [
    {
     "name": "stdout",
     "output_type": "stream",
     "text": [
      "  Borrower_Id  State    City  zip code borrower_credit_score\n",
      "0     123fd35   dfgc  12olki     19473                     4\n",
      "1     123fd36  rtgio   89hfg    923475                     a\n"
     ]
    }
   ],
   "source": [
    "# Function to get the latest file from a directory\n",
    "def get_latest_file(folder_path):\n",
    "    files = [os.path.join(folder_path, file) for file in os.listdir(folder_path) if os.path.isfile(os.path.join(folder_path, file))]\n",
    "    \n",
    "    if files:\n",
    "        latest_file = max(files, key=os.path.getmtime)\n",
    "        return latest_file\n",
    "    else:\n",
    "        return None\n",
    "\n",
    "# Function to extract tables from a PDF using PyTabula\n",
    "def extract_tables_from_pdf(pdf_path):\n",
    "    # Read PDF into DataFrames\n",
    "    dfs = tabula.read_pdf(pdf_path, pages='all', multiple_tables=True)\n",
    "    return dfs\n",
    "\n",
    "# Function to read the latest file into a DataFrame or extract tables from a PDF\n",
    "def read_latest_file(folder_path):\n",
    "    latest_file = get_latest_file(folder_path)\n",
    "\n",
    "    if latest_file:\n",
    "        if latest_file.lower().endswith('.csv'):\n",
    "            df = pd.read_csv(latest_file)\n",
    "            return [df]  # Return as a list of DataFrames\n",
    "        elif latest_file.lower().endswith(('.xls', '.xlsx')):\n",
    "            df = pd.read_excel(latest_file)\n",
    "            return [df]  # Return as a list of DataFrames\n",
    "        elif latest_file.lower().endswith('.pdf'):\n",
    "            # Extract tables from PDF\n",
    "            tables = extract_tables_from_pdf(latest_file)\n",
    "            if tables:\n",
    "                return tables  # Return the list of DataFrames\n",
    "            else:\n",
    "                print(f\"No tables found in {latest_file}\")\n",
    "                return None\n",
    "        else:\n",
    "            print(f\"Unsupported file format for {latest_file}\")\n",
    "            return None\n",
    "    else:\n",
    "        print(f\"No files found in {folder_path}\")\n",
    "        return None\n",
    "\n",
    "# Function to process the latest file in the folder\n",
    "def clean_dataframe(df):\n",
    "    if 'Unnamed: 0' in df.columns:\n",
    "        df = df.drop('Unnamed: 0', axis=1)\n",
    "    return df\n",
    "\n",
    "def process_latest_folder(folder_path):\n",
    "    extracted_data = read_latest_file(folder_path)\n",
    "    if isinstance(extracted_data, list) and all(isinstance(df, pd.DataFrame) for df in extracted_data):\n",
    "        # Clean all DataFrames\n",
    "        cleaned_data = [clean_dataframe(df) for df in extracted_data]\n",
    "        \n",
    "        # If there's only one DataFrame, return it directly\n",
    "        if len(cleaned_data) == 1:\n",
    "            return cleaned_data[0]\n",
    "        # If there are multiple DataFrames, return the list\n",
    "        return cleaned_data\n",
    "    else:\n",
    "        return None\n",
    "\n",
    "# Usage\n",
    "base_path = r\"C:\\Users\\Temidayo\\Desktop\\Test_Question\\Borrow_Folder\"\n",
    "df = process_latest_folder(base_path)\n",
    "\n",
    "if df is not None:\n",
    "    if isinstance(df, pd.DataFrame):\n",
    "        print(df)  # or df.head() if you only want to see the first few rows\n",
    "    else:\n",
    "        print(\"Multiple tables found. Using the first one:\")\n",
    "        print(df[0])  # or df[0].head()\n",
    "else:\n",
    "    print(\"No data found.\")"
   ]
  },
  {
   "cell_type": "code",
   "execution_count": 3,
   "id": "9395ec62",
   "metadata": {},
   "outputs": [
    {
     "data": {
      "text/html": [
       "<div>\n",
       "<style scoped>\n",
       "    .dataframe tbody tr th:only-of-type {\n",
       "        vertical-align: middle;\n",
       "    }\n",
       "\n",
       "    .dataframe tbody tr th {\n",
       "        vertical-align: top;\n",
       "    }\n",
       "\n",
       "    .dataframe thead th {\n",
       "        text-align: right;\n",
       "    }\n",
       "</style>\n",
       "<table border=\"1\" class=\"dataframe\">\n",
       "  <thead>\n",
       "    <tr style=\"text-align: right;\">\n",
       "      <th></th>\n",
       "      <th>Borrower_Id</th>\n",
       "      <th>State</th>\n",
       "      <th>City</th>\n",
       "      <th>zip code</th>\n",
       "      <th>borrower_credit_score</th>\n",
       "    </tr>\n",
       "  </thead>\n",
       "  <tbody>\n",
       "    <tr>\n",
       "      <th>0</th>\n",
       "      <td>123fd35</td>\n",
       "      <td>dfgc</td>\n",
       "      <td>12olki</td>\n",
       "      <td>19473</td>\n",
       "      <td>4</td>\n",
       "    </tr>\n",
       "    <tr>\n",
       "      <th>1</th>\n",
       "      <td>123fd36</td>\n",
       "      <td>rtgio</td>\n",
       "      <td>89hfg</td>\n",
       "      <td>923475</td>\n",
       "      <td>a</td>\n",
       "    </tr>\n",
       "  </tbody>\n",
       "</table>\n",
       "</div>"
      ],
      "text/plain": [
       "  Borrower_Id  State    City  zip code borrower_credit_score\n",
       "0     123fd35   dfgc  12olki     19473                     4\n",
       "1     123fd36  rtgio   89hfg    923475                     a"
      ]
     },
     "execution_count": 3,
     "metadata": {},
     "output_type": "execute_result"
    }
   ],
   "source": [
    "df = process_latest_folder(base_path)\n",
    "df.head()"
   ]
  },
  {
   "cell_type": "code",
   "execution_count": 4,
   "id": "6a9903d9",
   "metadata": {},
   "outputs": [
    {
     "data": {
      "text/html": [
       "<div>\n",
       "<style scoped>\n",
       "    .dataframe tbody tr th:only-of-type {\n",
       "        vertical-align: middle;\n",
       "    }\n",
       "\n",
       "    .dataframe tbody tr th {\n",
       "        vertical-align: top;\n",
       "    }\n",
       "\n",
       "    .dataframe thead th {\n",
       "        text-align: right;\n",
       "    }\n",
       "</style>\n",
       "<table border=\"1\" class=\"dataframe\">\n",
       "  <thead>\n",
       "    <tr style=\"text-align: right;\">\n",
       "      <th></th>\n",
       "      <th>Borrower_Id</th>\n",
       "      <th>State</th>\n",
       "      <th>City</th>\n",
       "      <th>zip code</th>\n",
       "      <th>borrower_credit_score</th>\n",
       "      <th>ingestion_date</th>\n",
       "    </tr>\n",
       "  </thead>\n",
       "  <tbody>\n",
       "    <tr>\n",
       "      <th>0</th>\n",
       "      <td>123fd35</td>\n",
       "      <td>dfgc</td>\n",
       "      <td>12olki</td>\n",
       "      <td>19473</td>\n",
       "      <td>4</td>\n",
       "      <td>2024-08-06 19:34:53.555953</td>\n",
       "    </tr>\n",
       "    <tr>\n",
       "      <th>1</th>\n",
       "      <td>123fd36</td>\n",
       "      <td>rtgio</td>\n",
       "      <td>89hfg</td>\n",
       "      <td>923475</td>\n",
       "      <td>a</td>\n",
       "      <td>2024-08-06 19:34:53.555953</td>\n",
       "    </tr>\n",
       "  </tbody>\n",
       "</table>\n",
       "</div>"
      ],
      "text/plain": [
       "  Borrower_Id  State    City  zip code borrower_credit_score  \\\n",
       "0     123fd35   dfgc  12olki     19473                     4   \n",
       "1     123fd36  rtgio   89hfg    923475                     a   \n",
       "\n",
       "              ingestion_date  \n",
       "0 2024-08-06 19:34:53.555953  \n",
       "1 2024-08-06 19:34:53.555953  "
      ]
     },
     "execution_count": 4,
     "metadata": {},
     "output_type": "execute_result"
    }
   ],
   "source": [
    "# Adding the ingestion_date column with the current UTC timestamp\n",
    "df['ingestion_date'] = datetime.utcnow()\n",
    "\n",
    "# Display the updated DataFrame\n",
    "df.head()"
   ]
  },
  {
   "cell_type": "code",
   "execution_count": 5,
   "id": "e7919034",
   "metadata": {},
   "outputs": [
    {
     "name": "stdout",
     "output_type": "stream",
     "text": [
      "<class 'pandas.core.frame.DataFrame'>\n",
      "RangeIndex: 2 entries, 0 to 1\n",
      "Data columns (total 6 columns):\n",
      " #   Column                 Non-Null Count  Dtype         \n",
      "---  ------                 --------------  -----         \n",
      " 0   Borrower_Id            2 non-null      object        \n",
      " 1   State                  2 non-null      object        \n",
      " 2   City                   2 non-null      object        \n",
      " 3   zip code               2 non-null      int64         \n",
      " 4   borrower_credit_score  2 non-null      object        \n",
      " 5   ingestion_date         2 non-null      datetime64[ns]\n",
      "dtypes: datetime64[ns](1), int64(1), object(4)\n",
      "memory usage: 228.0+ bytes\n"
     ]
    }
   ],
   "source": [
    "df.info()"
   ]
  },
  {
   "cell_type": "code",
   "execution_count": 6,
   "id": "5d1e26dc",
   "metadata": {},
   "outputs": [],
   "source": [
    "# Step 3: Load environment variables from .env file\n",
    "env_dir = r'C:\\Users\\Temidayo\\Desktop\\Test_Question\\Credentials'\n",
    "env_values = dotenv_values(os.path.join(env_dir, '.env'))"
   ]
  },
  {
   "cell_type": "code",
   "execution_count": 7,
   "id": "5b98f090",
   "metadata": {},
   "outputs": [],
   "source": [
    "# Function to load environment variables from .env file\n",
    "def get_db_credentials(env_dir):\n",
    "    env_values = dotenv_values(os.path.join(env_dir, '.env'))\n",
    "    \n",
    "    sql_server = env_values.get(\"sql_server\")\n",
    "    sql_database = env_values.get(\"sql_database\")\n",
    "    sql_username = env_values.get(\"sql_username\")\n",
    "    sql_password = env_values.get(\"sql_password\")\n",
    "    sql_driver = 'ODBC Driver 17 for SQL Server'\n",
    "    schema_name = 'autocheck'\n",
    "    table_name = 'borrow'\n",
    "    \n",
    "    return {\n",
    "        'sql_server': sql_server,\n",
    "        'sql_database': sql_database,\n",
    "        'sql_username': sql_username,\n",
    "        'sql_password': sql_password,\n",
    "        'sql_driver': sql_driver\n",
    "    }"
   ]
  },
  {
   "cell_type": "code",
   "execution_count": 8,
   "id": "bfcce616",
   "metadata": {},
   "outputs": [
    {
     "name": "stdout",
     "output_type": "stream",
     "text": [
      "Data appended to Azure SQL Database table autocheck.borrow successfully.\n"
     ]
    }
   ],
   "source": [
    "# Function to load DataFrame to SQL database\n",
    "def load_data_to_sql(df, table_name, env_dir, schema_name='autocheck'):\n",
    "    try:\n",
    "        credentials = get_db_credentials(env_dir)\n",
    "        connection_string = f\"mssql+pyodbc://{credentials['sql_username']}:{credentials['sql_password']}@{credentials['sql_server']}/{credentials['sql_database']}?driver={credentials['sql_driver']}\"\n",
    "        engine = create_engine(connection_string)\n",
    "        \n",
    "        # Append DataFrame to SQL table\n",
    "        df.to_sql(table_name, engine, schema=schema_name, if_exists='append', index=False)\n",
    "        \n",
    "        print(f\"Data appended to Azure SQL Database table {schema_name}.{table_name} successfully.\")\n",
    "    except Exception as e:\n",
    "        print(f\"Error writing to SQL Database: {str(e)}\")\n",
    "\n",
    "# Check if DataFrame is available before attempting to load it to SQL\n",
    "if df is not None:\n",
    "    table_name = 'borrow'  # Define your table name here\n",
    "    load_data_to_sql(df, table_name, env_dir)"
   ]
  },
  {
   "cell_type": "code",
   "execution_count": null,
   "id": "4f44a9fc",
   "metadata": {},
   "outputs": [],
   "source": []
  }
 ],
 "metadata": {
  "kernelspec": {
   "display_name": "Python 3 (ipykernel)",
   "language": "python",
   "name": "python3"
  },
  "language_info": {
   "codemirror_mode": {
    "name": "ipython",
    "version": 3
   },
   "file_extension": ".py",
   "mimetype": "text/x-python",
   "name": "python",
   "nbconvert_exporter": "python",
   "pygments_lexer": "ipython3",
   "version": "3.11.5"
  }
 },
 "nbformat": 4,
 "nbformat_minor": 5
}
